{
 "cells": [
  {
   "cell_type": "code",
   "execution_count": null,
   "id": "52173971",
   "metadata": {},
   "outputs": [],
   "source": [
    "from transformers import AutoTokenizer, AutoModelForCausalLM, TrainingArguments, Trainer\n",
    "from datasets import load_dataset\n",
    "import os\n",
    "\n",
    "model_name = \"meta-llama/Llama-3.2-1B\"\n",
    "\n",
    "# Load model & tokenizer\n",
    "tokenizer = AutoTokenizer.from_pretrained(model_name, trust_remote_code=True)\n",
    "model = AutoModelForCausalLM.from_pretrained(model_name, trust_remote_code=True)\n",
    "\n",
    "# Load your dataset\n",
    "dataset = load_dataset(\"json\", data_files=\"./data/stories.json\")\n",
    "\n",
    "# Merge prompt + story for training\n",
    "def preprocess(example):\n",
    "    full_text = f\"<s>Prompt: {example['prompt']}\\nStory: {example['story']}</s>\"\n",
    "    return tokenizer(full_text, truncation=True, padding=\"max_length\", max_length=512)\n",
    "\n",
    "tokenized = dataset[\"train\"].map(preprocess)\n",
    "\n",
    "# Training args\n",
    "args = TrainingArguments(\n",
    "    output_dir=\"./llama-story\",\n",
    "    per_device_train_batch_size=2,\n",
    "    num_train_epochs=3,\n",
    "    logging_steps=20,\n",
    "    save_steps=100,\n",
    "    fp16=True,\n",
    "    report_to=\"none\"\n",
    ")\n",
    "\n",
    "trainer = Trainer(\n",
    "    model=model,\n",
    "    args=args,\n",
    "    train_dataset=tokenized,\n",
    ")\n",
    "\n",
    "trainer.train()\n"
   ]
  },
  {
   "cell_type": "code",
   "execution_count": null,
   "id": "b6524706",
   "metadata": {},
   "outputs": [],
   "source": [
    "from transformers import pipeline, AutoTokenizer, AutoModelForCausalLM\n",
    "\n",
    "model_dir = \"./llama-story\"\n",
    "\n",
    "tokenizer = AutoTokenizer.from_pretrained(model_dir)\n",
    "model = AutoModelForCausalLM.from_pretrained(model_dir)\n",
    "\n",
    "pipe = pipeline(\"text-generation\", model=model, tokenizer=tokenizer)\n",
    "\n",
    "def generate_story(prompt: str):\n",
    "    input_text = f\"<s>Prompt: {prompt}\\nStory:\"\n",
    "    output = pipe(input_text, max_new_tokens=300, do_sample=True, temperature=0.8)\n",
    "    return output[0][\"generated_text\"].replace(input_text, \"\").strip()\n",
    "\n",
    "# Test\n",
    "if __name__ == \"__main__\":\n",
    "    prompt = \"Kể câu chuyện về một con mèo đi lạc trong không gian\"\n",
    "    story = generate_story(prompt)\n",
    "    print(\"Generated story:\\n\", story)\n"
   ]
  },
  {
   "cell_type": "code",
   "execution_count": null,
   "id": "39ad4ad3",
   "metadata": {},
   "outputs": [],
   "source": [
    "from fastapi import FastAPI\n",
    "from pydantic import BaseModel\n",
    "from generate import generate_story\n",
    "\n",
    "app = FastAPI()\n",
    "\n",
    "class PromptInput(BaseModel):\n",
    "    prompt: str\n",
    "\n",
    "@app.post(\"/generate\")\n",
    "def generate(input: PromptInput):\n",
    "    story = generate_story(input.prompt)\n",
    "    return {\"story\": story}\n"
   ]
  },
  {
   "cell_type": "code",
   "execution_count": null,
   "id": "1c308914",
   "metadata": {},
   "outputs": [],
   "source": [
    "[\n",
    "  {\n",
    "    \"prompt\": \"Kể câu chuyện về một cậu bé và con rồng\",\n",
    "    \"story\": \"Ngày xửa ngày xưa, có một cậu bé tên An sống gần một hang động nơi con rồng đang ngủ...\"\n",
    "  },\n",
    "  {\n",
    "    \"prompt\": \"Viết truyện cổ tích về nàng tiên cá\",\n",
    "    \"story\": \"Trong lòng đại dương xanh thẳm, có một nàng tiên cá tên Lyra...\"\n",
    "  }\n",
    "]\n"
   ]
  }
 ],
 "metadata": {
  "kernelspec": {
   "display_name": "luan",
   "language": "python",
   "name": "python3"
  },
  "language_info": {
   "codemirror_mode": {
    "name": "ipython",
    "version": 3
   },
   "file_extension": ".py",
   "mimetype": "text/x-python",
   "name": "python",
   "nbconvert_exporter": "python",
   "pygments_lexer": "ipython3",
   "version": "3.12.2"
  }
 },
 "nbformat": 4,
 "nbformat_minor": 5
}
