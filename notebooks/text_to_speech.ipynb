{
 "cells": [
  {
   "cell_type": "markdown",
   "id": "aad72c87",
   "metadata": {},
   "source": [
    "## Try bark from suno AI"
   ]
  },
  {
   "cell_type": "code",
   "execution_count": null,
   "id": "9b69adb7",
   "metadata": {},
   "outputs": [],
   "source": [
    "from bark import SAMPLE_RATE, generate_audio\n",
    "from scipy.io.wavfile import write\n",
    "\n",
    "text_prompt = \"Một cậu bé lạc vào rừng và nghe thấy tiếng chim hót.\"\n",
    "audio_array = generate_audio(text_prompt)\n",
    "\n",
    "write(\"output.wav\", SAMPLE_RATE, audio_array)\n"
   ]
  },
  {
   "cell_type": "code",
   "execution_count": null,
   "id": "44b09e82",
   "metadata": {},
   "outputs": [],
   "source": []
  }
 ],
 "metadata": {
  "language_info": {
   "name": "python"
  }
 },
 "nbformat": 4,
 "nbformat_minor": 5
}
